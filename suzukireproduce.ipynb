{
  "nbformat": 4,
  "nbformat_minor": 0,
  "metadata": {
    "colab": {
      "provenance": [],
      "gpuType": "T4",
      "authorship_tag": "ABX9TyPx3JnEBVr3AIkzqkuU/IJO",
      "include_colab_link": true
    },
    "kernelspec": {
      "name": "python3",
      "display_name": "Python 3"
    },
    "language_info": {
      "name": "python"
    },
    "accelerator": "GPU"
  },
  "cells": [
    {
      "cell_type": "markdown",
      "metadata": {
        "id": "view-in-github",
        "colab_type": "text"
      },
      "source": [
        "<a href=\"https://colab.research.google.com/github/FrozenPeak0701/MusicCopilotGPT/blob/main/suzukireproduce.ipynb\" target=\"_parent\"><img src=\"https://colab.research.google.com/assets/colab-badge.svg\" alt=\"Open In Colab\"/></a>"
      ]
    },
    {
      "cell_type": "code",
      "source": [
        "!nvidia-smi -L\n",
        "!lscpu |grep 'Model name'"
      ],
      "metadata": {
        "colab": {
          "base_uri": "https://localhost:8080/"
        },
        "id": "UJJQO0cdS1wx",
        "outputId": "8dc480fa-fc2e-4c6a-db3b-f87486407d79"
      },
      "execution_count": 1,
      "outputs": [
        {
          "output_type": "stream",
          "name": "stdout",
          "text": [
            "GPU 0: Tesla T4 (UUID: GPU-03678ca8-c3aa-de1b-627f-3d5af11d4d2f)\n",
            "Model name:                      Intel(R) Xeon(R) CPU @ 2.20GHz\n"
          ]
        }
      ]
    },
    {
      "cell_type": "code",
      "execution_count": 2,
      "metadata": {
        "id": "12NRurxaRiV5",
        "colab": {
          "base_uri": "https://localhost:8080/"
        },
        "outputId": "253fe886-8e4b-4b61-b983-51e36bcc695d"
      },
      "outputs": [
        {
          "output_type": "stream",
          "name": "stdout",
          "text": [
            "Drive already mounted at /content/gdrive; to attempt to forcibly remount, call drive.mount(\"/content/gdrive\", force_remount=True).\n"
          ]
        }
      ],
      "source": [
        "## Mount Google Drive Data (If using Google Colaboratory)\n",
        "try:\n",
        "    from google.colab import drive\n",
        "    drive.mount('/content/gdrive')\n",
        "except:\n",
        "    print(\"Mounting Failed.\")"
      ]
    },
    {
      "cell_type": "code",
      "source": [
        "!ls gdrive/MyDrive/Data/"
      ],
      "metadata": {
        "colab": {
          "base_uri": "https://localhost:8080/"
        },
        "id": "4LtbJ25CS2-i",
        "outputId": "a3162b15-8586-4de7-dcd6-4d6bc14c1769"
      },
      "execution_count": 3,
      "outputs": [
        {
          "output_type": "stream",
          "name": "stdout",
          "text": [
            "ATEPP-1.1      detokenizer  requirements.txt\t   tokenizer\n",
            "convert.json   musicXml     sample.py\t\t   tokenProduction.ipynb\n",
            "CreateCsv.py   mxl\t    test.ipynb\n",
            "CSV\t       __pycache__  tokenized_files\n",
            "dataloader.py  remi\t    tokenized_scores.json\n"
          ]
        }
      ]
    },
    {
      "cell_type": "code",
      "source": [
        "data_dir = \"gdrive/MyDrive/Data/\""
      ],
      "metadata": {
        "id": "aYMRbZPS1aNa"
      },
      "execution_count": 4,
      "outputs": []
    },
    {
      "cell_type": "code",
      "source": [
        "!pip install -r \"{data_dir}requirements.txt\"\n",
        "!pip install miditoolkit"
      ],
      "metadata": {
        "colab": {
          "base_uri": "https://localhost:8080/"
        },
        "id": "gMU8EoLr2Hwm",
        "outputId": "9dd93390-ac5f-4d12-b5b4-0103eb0854b3"
      },
      "execution_count": 5,
      "outputs": [
        {
          "output_type": "stream",
          "name": "stdout",
          "text": [
            "Requirement already satisfied: beautifulsoup4 in /usr/local/lib/python3.10/dist-packages (from -r gdrive/MyDrive/Data/requirements.txt (line 1)) (4.11.2)\n",
            "Requirement already satisfied: lxml in /usr/local/lib/python3.10/dist-packages (from -r gdrive/MyDrive/Data/requirements.txt (line 2)) (4.9.3)\n",
            "Requirement already satisfied: music21 in /usr/local/lib/python3.10/dist-packages (from -r gdrive/MyDrive/Data/requirements.txt (line 3)) (9.1.0)\n",
            "Requirement already satisfied: pretty_midi in /usr/local/lib/python3.10/dist-packages (from -r gdrive/MyDrive/Data/requirements.txt (line 4)) (0.2.10)\n",
            "Requirement already satisfied: soupsieve>1.2 in /usr/local/lib/python3.10/dist-packages (from beautifulsoup4->-r gdrive/MyDrive/Data/requirements.txt (line 1)) (2.4.1)\n",
            "Requirement already satisfied: chardet in /usr/local/lib/python3.10/dist-packages (from music21->-r gdrive/MyDrive/Data/requirements.txt (line 3)) (4.0.0)\n",
            "Requirement already satisfied: joblib in /usr/local/lib/python3.10/dist-packages (from music21->-r gdrive/MyDrive/Data/requirements.txt (line 3)) (1.3.2)\n",
            "Requirement already satisfied: jsonpickle in /usr/local/lib/python3.10/dist-packages (from music21->-r gdrive/MyDrive/Data/requirements.txt (line 3)) (3.0.1)\n",
            "Requirement already satisfied: matplotlib in /usr/local/lib/python3.10/dist-packages (from music21->-r gdrive/MyDrive/Data/requirements.txt (line 3)) (3.7.1)\n",
            "Requirement already satisfied: more-itertools in /usr/local/lib/python3.10/dist-packages (from music21->-r gdrive/MyDrive/Data/requirements.txt (line 3)) (10.1.0)\n",
            "Requirement already satisfied: numpy in /usr/local/lib/python3.10/dist-packages (from music21->-r gdrive/MyDrive/Data/requirements.txt (line 3)) (1.23.5)\n",
            "Requirement already satisfied: requests in /usr/local/lib/python3.10/dist-packages (from music21->-r gdrive/MyDrive/Data/requirements.txt (line 3)) (2.31.0)\n",
            "Requirement already satisfied: webcolors>=1.5 in /usr/local/lib/python3.10/dist-packages (from music21->-r gdrive/MyDrive/Data/requirements.txt (line 3)) (1.13)\n",
            "Requirement already satisfied: mido>=1.1.16 in /usr/local/lib/python3.10/dist-packages (from pretty_midi->-r gdrive/MyDrive/Data/requirements.txt (line 4)) (1.3.0)\n",
            "Requirement already satisfied: six in /usr/local/lib/python3.10/dist-packages (from pretty_midi->-r gdrive/MyDrive/Data/requirements.txt (line 4)) (1.16.0)\n",
            "Requirement already satisfied: packaging~=23.1 in /usr/local/lib/python3.10/dist-packages (from mido>=1.1.16->pretty_midi->-r gdrive/MyDrive/Data/requirements.txt (line 4)) (23.1)\n",
            "Requirement already satisfied: contourpy>=1.0.1 in /usr/local/lib/python3.10/dist-packages (from matplotlib->music21->-r gdrive/MyDrive/Data/requirements.txt (line 3)) (1.1.0)\n",
            "Requirement already satisfied: cycler>=0.10 in /usr/local/lib/python3.10/dist-packages (from matplotlib->music21->-r gdrive/MyDrive/Data/requirements.txt (line 3)) (0.11.0)\n",
            "Requirement already satisfied: fonttools>=4.22.0 in /usr/local/lib/python3.10/dist-packages (from matplotlib->music21->-r gdrive/MyDrive/Data/requirements.txt (line 3)) (4.42.0)\n",
            "Requirement already satisfied: kiwisolver>=1.0.1 in /usr/local/lib/python3.10/dist-packages (from matplotlib->music21->-r gdrive/MyDrive/Data/requirements.txt (line 3)) (1.4.4)\n",
            "Requirement already satisfied: pillow>=6.2.0 in /usr/local/lib/python3.10/dist-packages (from matplotlib->music21->-r gdrive/MyDrive/Data/requirements.txt (line 3)) (9.4.0)\n",
            "Requirement already satisfied: pyparsing>=2.3.1 in /usr/local/lib/python3.10/dist-packages (from matplotlib->music21->-r gdrive/MyDrive/Data/requirements.txt (line 3)) (3.1.1)\n",
            "Requirement already satisfied: python-dateutil>=2.7 in /usr/local/lib/python3.10/dist-packages (from matplotlib->music21->-r gdrive/MyDrive/Data/requirements.txt (line 3)) (2.8.2)\n",
            "Requirement already satisfied: charset-normalizer<4,>=2 in /usr/local/lib/python3.10/dist-packages (from requests->music21->-r gdrive/MyDrive/Data/requirements.txt (line 3)) (3.2.0)\n",
            "Requirement already satisfied: idna<4,>=2.5 in /usr/local/lib/python3.10/dist-packages (from requests->music21->-r gdrive/MyDrive/Data/requirements.txt (line 3)) (3.4)\n",
            "Requirement already satisfied: urllib3<3,>=1.21.1 in /usr/local/lib/python3.10/dist-packages (from requests->music21->-r gdrive/MyDrive/Data/requirements.txt (line 3)) (2.0.4)\n",
            "Requirement already satisfied: certifi>=2017.4.17 in /usr/local/lib/python3.10/dist-packages (from requests->music21->-r gdrive/MyDrive/Data/requirements.txt (line 3)) (2023.7.22)\n",
            "Requirement already satisfied: miditoolkit in /usr/local/lib/python3.10/dist-packages (0.1.16)\n",
            "Requirement already satisfied: numpy>=1.7.0 in /usr/local/lib/python3.10/dist-packages (from miditoolkit) (1.23.5)\n",
            "Requirement already satisfied: mido>=1.1.16 in /usr/local/lib/python3.10/dist-packages (from miditoolkit) (1.3.0)\n",
            "Requirement already satisfied: packaging~=23.1 in /usr/local/lib/python3.10/dist-packages (from mido>=1.1.16->miditoolkit) (23.1)\n"
          ]
        }
      ]
    },
    {
      "cell_type": "code",
      "source": [
        "import sys\n",
        "sys.path.append(data_dir)"
      ],
      "metadata": {
        "id": "vfaf6M7mAgDo"
      },
      "execution_count": 6,
      "outputs": []
    },
    {
      "cell_type": "code",
      "source": [
        "from dataloader import *\n",
        "import pandas as pd\n",
        "from remi import *\n",
        "import miditoolkit\n",
        "from tokenizer.score_to_tokens import *\n",
        "import torch\n",
        "from torch.utils.data import Dataset, DataLoader\n",
        "import torch.nn as nn\n",
        "import torch.optim as optim\n",
        "import json\n",
        "import pickle\n",
        "from torch.utils.data import Subset\n",
        "from torch.optim import Adam\n",
        "from torch.nn.utils.rnn import pad_sequence\n",
        "from torch.optim.lr_scheduler import StepLR\n",
        "import matplotlib.pyplot as plt"
      ],
      "metadata": {
        "id": "T407wV47ALpQ"
      },
      "execution_count": 56,
      "outputs": []
    },
    {
      "cell_type": "code",
      "source": [
        "torch.cuda.memory_allocated()"
      ],
      "metadata": {
        "colab": {
          "base_uri": "https://localhost:8080/"
        },
        "id": "gTAjVM97eT2-",
        "outputId": "e7fad423-3584-4244-e213-d73a28ab6d33"
      },
      "execution_count": 57,
      "outputs": [
        {
          "output_type": "execute_result",
          "data": {
            "text/plain": [
              "34376704"
            ]
          },
          "metadata": {},
          "execution_count": 57
        }
      ]
    },
    {
      "cell_type": "code",
      "source": [
        "tokenized_file_dir = 'tokenized_files/'\n",
        "dataset = CustomTokenDataset(f'{data_dir}CSV/data.csv')\n",
        "tmp = dataset[0]\n",
        "\n",
        "indices = list(range(len(dataset)))\n",
        "td = [310, 308, 307, 306, 305, 304, 282, 280, 279, 278, 276, 264, 263, 256, 245, 242, 220, 213, 212, 211, 209, 207, 203, 196, 194, 193, 192, 191, 190, 186, 184, 182, 181 ,178, 177, 175, 174, 169, 66, 48, 33, 28, 27, 24]\n",
        "for i in td:\n",
        "  del indices[i]\n",
        "\n",
        "new_dataset = Subset(dataset, indices)\n",
        "len(new_dataset)"
      ],
      "metadata": {
        "id": "ACqU5MhCZQ-v",
        "colab": {
          "base_uri": "https://localhost:8080/"
        },
        "outputId": "17e2c7cc-8bc5-485f-aec4-c64de0c2fa4f"
      },
      "execution_count": 58,
      "outputs": [
        {
          "output_type": "execute_result",
          "data": {
            "text/plain": [
              "275"
            ]
          },
          "metadata": {},
          "execution_count": 58
        }
      ]
    },
    {
      "cell_type": "code",
      "source": [
        "# tokenized_scores_list = ['sos', 'eos']\n",
        "# max_midi_token_len = 0\n",
        "# max_score_token_len = 0\n",
        "# files = []\n",
        "# for i,dat in enumerate(new_dataset):\n",
        "#   print(f\"{i + len(td)}|\", end = '')\n",
        "#   try:\n",
        "#     midi_obj = miditoolkit.midi.parser.MidiFile(data_dir+dat[2])\n",
        "#     if len(midi_obj.instruments) == 2:\n",
        "#       if (midi_obj.instruments[0].name!=\"Piano\") or ((midi_obj.instruments[1].name!=\"Piano\")):\n",
        "#         print(f\"{i}th object's midi file isn't 2 pianos: {midi_obj.instruments[0].name}, {midi_obj.instruments[1].name}\")\n",
        "#       else:\n",
        "#         print(f\"{i}th object's midi file is 2 pianos\")\n",
        "#     elif len(midi_obj.instruments) == 1:\n",
        "#       print(f\"{i}th object's midi file is 1 piano: {midi_obj.instruments[0].name}\")\n",
        "#     else:\n",
        "#       print(f\"{i}th object's midi file is more than two piano: {[i.name for i in midi_obj.instruments]}\")\n",
        "#     max_midi_token_len = max(*[len(i.notes) for i in midi_obj.instruments], max_midi_token_len)\n",
        "#     scoretokens = MusicXML_to_tokens(data_dir+dat[1])\n",
        "#     for tokj in scoretokens:\n",
        "#         if (tokj not in tokenized_scores_list):\n",
        "#           tokenized_scores_list.append(tokj)\n",
        "#     max_score_token_len = max(max_score_token_len, len(scoretokens))\n",
        "#     files.append(dat[0])\n",
        "#   except (TypeError, FileNotFoundError, AttributeError) as e:\n",
        "#     print(f\"{e}\")\n",
        "# with open(data_dir+tokenized_file_dir+'correspondance.json', 'w') as f:\n",
        "#     json.dump(files, f)\n",
        "# tokenized_scores_list, max_score_token_len, max_midi_token_len"
      ],
      "metadata": {
        "id": "LNE_mjQDdqjJ"
      },
      "execution_count": 59,
      "outputs": []
    },
    {
      "cell_type": "code",
      "source": [
        "# with open(data_dir+'tokenized_scores.json', 'w') as f:\n",
        "#     json.dump(tokenized_scores_list, f)\n",
        "\n",
        "with open(data_dir+'tokenized_scores.json') as f:\n",
        "    tokenized_scores_list = json.load(f)"
      ],
      "metadata": {
        "id": "lziahqS48zrp"
      },
      "execution_count": 60,
      "outputs": []
    },
    {
      "cell_type": "code",
      "source": [
        "len(tokenized_scores_list)"
      ],
      "metadata": {
        "colab": {
          "base_uri": "https://localhost:8080/"
        },
        "id": "VclpDenxCBCB",
        "outputId": "8e16dd8d-26b4-4eb9-83ca-89132d956071"
      },
      "execution_count": 61,
      "outputs": [
        {
          "output_type": "execute_result",
          "data": {
            "text/plain": [
              "422"
            ]
          },
          "metadata": {},
          "execution_count": 61
        }
      ]
    },
    {
      "cell_type": "code",
      "source": [
        "def normalize(value, length):\n",
        "    return value / length\n",
        "\n",
        "def encode(note, song_length):\n",
        "    start_token = int(normalize(note.start, song_length) * 100)\n",
        "    end_token = int(normalize(note.end, song_length) * 100)\n",
        "    pitch_token = note.pitch\n",
        "    velocity_token = note.velocity\n",
        "    return [start_token, end_token, pitch_token, velocity_token]"
      ],
      "metadata": {
        "id": "Fdk75HmcdrJu"
      },
      "execution_count": 62,
      "outputs": []
    },
    {
      "cell_type": "code",
      "source": [
        "# for i, dat in enumerate(new_dataset):\n",
        "#   song = miditoolkit.midi.parser.MidiFile(data_dir+dat[2])\n",
        "#   song_length = song.max_tick\n",
        "#   dnotes = sorted([j for i in song.instruments for j in i.notes], key=lambda note: note.start)\n",
        "#   tokens = [encode(note, song_length) for note in dnotes ]\n",
        "#   with open(data_dir + tokenized_file_dir+f'midi{i}.pkl', 'wb') as f:\n",
        "#     pickle.dump(tokens, f)"
      ],
      "metadata": {
        "id": "DAqd1FDC0tdU"
      },
      "execution_count": 63,
      "outputs": []
    },
    {
      "cell_type": "code",
      "source": [
        "# with open(data_dir + tokenized_file_dir+'midi1.pkl', 'rb') as f:\n",
        "#     tokens = pickle.load(f)\n",
        "# tokens"
      ],
      "metadata": {
        "id": "p_K62L2i8YJz"
      },
      "execution_count": 64,
      "outputs": []
    },
    {
      "cell_type": "code",
      "source": [
        "# Create a mapping from tokens to integers\n",
        "token_to_int = {token: i for i, token in enumerate(tokenized_scores_list)}\n",
        "\n",
        "# Create a mapping from integers to tokens\n",
        "int_to_token = {i: token for token, i in token_to_int.items()}\n",
        "\n",
        "def token2intlist(tokens):\n",
        "  return [token_to_int[i] for i in tokens]\n",
        "def int2tokenlist(ints):\n",
        "  return [int_to_token[i] for i in ints]"
      ],
      "metadata": {
        "id": "QlyJ6ltT_2GV"
      },
      "execution_count": 65,
      "outputs": []
    },
    {
      "cell_type": "code",
      "source": [
        "# for i, dat in enumerate(new_dataset):\n",
        "#   strlist = MusicXML_to_tokens(data_dir+dat[1])\n",
        "#   strlist = ['sos',] + strlist + ['eos',]\n",
        "#   tokens = token2intlist(strlist)\n",
        "#   with open(data_dir + tokenized_file_dir+f'score{i}.pkl', 'wb') as f:\n",
        "#     pickle.dump(tokens, f)"
      ],
      "metadata": {
        "id": "fy4ojiw29vOc"
      },
      "execution_count": 66,
      "outputs": []
    },
    {
      "cell_type": "code",
      "source": [
        "# with open(data_dir + tokenized_file_dir+f'score0.pkl', 'rb') as f:\n",
        "#     tokens = pickle.load(f)\n",
        "# tokens"
      ],
      "metadata": {
        "id": "DFI79zRV9-Ik"
      },
      "execution_count": 67,
      "outputs": []
    },
    {
      "cell_type": "code",
      "source": [
        "srcr = []\n",
        "tgtr = []\n",
        "max_src_len = 0\n",
        "max_tgt_len = 0\n",
        "for i in range(275):\n",
        "  with open(data_dir + tokenized_file_dir+f'score{i}.pkl', 'rb') as f:\n",
        "      tok = pickle.load(f)\n",
        "      max_tgt_len = max(max_tgt_len, len(tok))\n",
        "      tgtr.append(tok)\n",
        "\n",
        "  with open(data_dir + tokenized_file_dir+f'midi{i}.pkl', 'rb') as f:\n",
        "      tok = pickle.load(f)\n",
        "      max_src_len = max(max_src_len, len(tok))\n",
        "      srcr.append(tok)\n",
        "len(srcr), len(tgtr), max_src_len, max_tgt_len"
      ],
      "metadata": {
        "colab": {
          "base_uri": "https://localhost:8080/"
        },
        "id": "qrjuu-FgKJ-Q",
        "outputId": "e8814e54-685a-44ed-da0e-b84dfb96d146"
      },
      "execution_count": 68,
      "outputs": [
        {
          "output_type": "execute_result",
          "data": {
            "text/plain": [
              "(275, 275, 10188, 35382)"
            ]
          },
          "metadata": {},
          "execution_count": 68
        }
      ]
    },
    {
      "cell_type": "code",
      "source": [
        "len(tgtr[0]), len(srcr[0])"
      ],
      "metadata": {
        "colab": {
          "base_uri": "https://localhost:8080/"
        },
        "id": "pxGD6CsVS_oU",
        "outputId": "2c8f07dd-e7de-44b1-a72e-35e163353eee"
      },
      "execution_count": 69,
      "outputs": [
        {
          "output_type": "execute_result",
          "data": {
            "text/plain": [
              "(4976, 1288)"
            ]
          },
          "metadata": {},
          "execution_count": 69
        }
      ]
    },
    {
      "cell_type": "code",
      "source": [
        "def filterbysrclen(srcr, tgtr, n):\n",
        "  # Pair the lists together and sort them by both elements\n",
        "  paired_list = sorted([(len(a), len(b), a, b) for a, b in zip(srcr, tgtr)])\n",
        "\n",
        "  # Initialize variables to track the pairs that meet the condition\n",
        "  output_a = []\n",
        "  output_b = []\n",
        "  a_threshold = b_threshold = 0\n",
        "\n",
        "  # Iterate through the sorted pairs and collect the first n that meet the condition\n",
        "  max_a = 0\n",
        "  max_b = 0\n",
        "  for i, (a, b,c,d) in enumerate(paired_list):\n",
        "      if i >= n:\n",
        "          break\n",
        "      output_a.append(c)\n",
        "      output_b.append(d)\n",
        "      max_a = max(max_a, a)\n",
        "      max_b = max(max_b, b)\n",
        "\n",
        "  return output_a, output_b, max_a, max_b"
      ],
      "metadata": {
        "id": "LZIHvCNuwyYs"
      },
      "execution_count": 70,
      "outputs": []
    },
    {
      "cell_type": "code",
      "source": [
        "filtering = 100\n",
        "a, b, c, d = filterbysrclen(srcr, tgtr, filtering)\n",
        "len(a), len(b), c, d"
      ],
      "metadata": {
        "colab": {
          "base_uri": "https://localhost:8080/"
        },
        "id": "NyxYBb2sHOgZ",
        "outputId": "71d390f5-3910-4493-dd7f-ffbb57f70f99"
      },
      "execution_count": 71,
      "outputs": [
        {
          "output_type": "execute_result",
          "data": {
            "text/plain": [
              "(100, 100, 1655, 7779)"
            ]
          },
          "metadata": {},
          "execution_count": 71
        }
      ]
    },
    {
      "cell_type": "code",
      "source": [
        "class MusicDataset(Dataset):\n",
        "    def __init__(self, src_data, tgt_data):\n",
        "        self.src_data = src_data\n",
        "        self.tgt_data = tgt_data\n",
        "\n",
        "    def __len__(self):\n",
        "        return len(self.src_data)\n",
        "\n",
        "    def __getitem__(self, idx):\n",
        "        return self.src_data[idx], self.tgt_data[idx]\n",
        "\n",
        "def pad_sequences(batch, padding_value=-1, feature_size = None):\n",
        "    # Get sequence lengths\n",
        "    lengths = [len(seq) for seq in batch]\n",
        "\n",
        "    # Create an empty tensor with size of the longest sequence\n",
        "    max_length = max(lengths)\n",
        "    if feature_size is None:\n",
        "      padded_batch = torch.full((len(batch), max_length), padding_value)\n",
        "    else:\n",
        "      padded_batch = torch.full((len(batch), max_length, feature_size), padding_value)\n",
        "\n",
        "    # Pad the sequences\n",
        "    for i, seq in enumerate(batch):\n",
        "        padded_batch[i, :lengths[i]] = seq\n",
        "\n",
        "    return padded_batch\n",
        "\n",
        "def collate_fn(batch):\n",
        "    src_batch, tgt_batch = zip(*batch)\n",
        "\n",
        "    src_batch = pad_sequences([torch.tensor(data) for data in src_batch],feature_size = 4)\n",
        "    tgt_batch = pad_sequences([torch.tensor(data) for data in tgt_batch])\n",
        "\n",
        "    return src_batch, tgt_batch\n",
        "\n",
        "dataset = MusicDataset(a, b)\n",
        "\n",
        "dataloader = DataLoader(dataset, batch_size=1, collate_fn=collate_fn, shuffle = True)  #"
      ],
      "metadata": {
        "id": "8lVK_MiWJ0q2"
      },
      "execution_count": 72,
      "outputs": []
    },
    {
      "cell_type": "code",
      "source": [
        "class Transformer(nn.Module):\n",
        "    def __init__(self, embedding_size, num_heads, hidden_dim, num_layers, dropout, device, max_src_length=1700, max_tgt_length = 8000):\n",
        "        super().__init__()\n",
        "\n",
        "        self.device = device\n",
        "\n",
        "        self.src_linear = nn.Linear(4, embedding_size)\n",
        "        self.tgt_linear = nn.Linear(1, embedding_size)\n",
        "        self.src_pos_embedding = nn.Embedding(max_src_length, embedding_size)\n",
        "        self.tgt_pos_embedding = nn.Embedding(max_tgt_length, embedding_size)\n",
        "\n",
        "        self.encoder = nn.TransformerEncoder(\n",
        "            nn.TransformerEncoderLayer(embedding_size, num_heads, hidden_dim, dropout),\n",
        "            num_layers\n",
        "        )\n",
        "\n",
        "        self.decoder = nn.TransformerDecoder(\n",
        "            nn.TransformerDecoderLayer(embedding_size, num_heads, hidden_dim, dropout),\n",
        "            num_layers\n",
        "        )\n",
        "\n",
        "        self.fc = nn.Linear(embedding_size, 1)\n",
        "        self.dropout = nn.Dropout(dropout)\n",
        "\n",
        "    def create_mask(self, src, tgt):\n",
        "      src_mask = (src.sum(dim=-1) == -4)\n",
        "      tgt_mask = (tgt == -1)\n",
        "      # print(src_mask,tgt_mask, sep = '\\n')\n",
        "      # # This line ensures that the `inf` values do not result in NaN values after softmax\n",
        "      # src_mask = src_mask.masked_fill(src_mask, sys.float_info.min)\n",
        "      # tgt_mask = tgt_mask.masked_fill(tgt_mask, sys.float_info.min)\n",
        "      # print(src_mask,tgt_mask, sep ='\\n')\n",
        "      return src_mask, tgt_mask\n",
        "\n",
        "\n",
        "    def forward(self, src, tgt):\n",
        "      # print(1,torch.cuda.memory_allocated()*1e-9)\n",
        "      src = src.float()\n",
        "      tgt = tgt.float()\n",
        "\n",
        "      batch_size, src_seq_len, _ = src.size()\n",
        "      _, tgt_seq_len = tgt.size()  # get sequence length of tgt\n",
        "      # print(2,torch.cuda.memory_allocated()*1e-9)\n",
        "      src_mask, tgt_mask = self.create_mask(src, tgt)\n",
        "\n",
        "      # print(src_mask.shape, tgt_mask.shape,torch.cuda.memory_allocated()*1e-9)\n",
        "\n",
        "      pos = (torch.arange(0, src_seq_len).unsqueeze(0).repeat(batch_size, 1).to(self.device)).long()\n",
        "      tgt_pos = (torch.arange(0, tgt_seq_len).unsqueeze(0).repeat(batch_size, 1).to(self.device)).long()  # pos for tgt\n",
        "      # print(pos.shape, tgt_pos.shape)\n",
        "      # print(3,torch.cuda.memory_allocated()*1e-9)\n",
        "      # print((self.src_linear(src) + self.src_pos_embedding(pos)).shape, (self.tgt_linear(tgt.unsqueeze(-1)) + self.tgt_pos_embedding(tgt_pos)).shape)\n",
        "      src_embedded = self.dropout((self.src_linear(src) + self.src_pos_embedding(pos)).permute(1,0,2))\n",
        "      tgt_embedded = self.dropout((self.tgt_linear(tgt.unsqueeze(-1)) + self.tgt_pos_embedding(tgt_pos)).permute(1,0,2))\n",
        "\n",
        "      # print(4,torch.cuda.memory_allocated()*1e-9)\n",
        "      # print(src_mask.shape, tgt_mask.shape, src_embedded.shape, tgt_embedded.shape)\n",
        "      enc_src = self.encoder(src_embedded, src_key_padding_mask=src_mask)\n",
        "      # print(5,torch.cuda.memory_allocated()*1e-9)\n",
        "      # print(src_mask, tgt_mask, src_mask.shape, tgt_mask.shape)\n",
        "      # print(enc_src.shape)\n",
        "      output = self.decoder(tgt_embedded, enc_src, tgt_key_padding_mask=tgt_mask, memory_key_padding_mask=src_mask)\n",
        "      # print(6,torch.cuda.memory_allocated()*1e-9)\n",
        "      return self.fc(output.permute(1, 0, 2))"
      ],
      "metadata": {
        "id": "qrgcfZWGuQUW"
      },
      "execution_count": 73,
      "outputs": []
    },
    {
      "cell_type": "code",
      "source": [
        "# Initialize model\n",
        "embedding_size = 32\n",
        "num_heads = 4\n",
        "hidden_dim = 64\n",
        "num_layers = 2\n",
        "dropout = 0.2\n",
        "device = torch.device(\"cuda\" if torch.cuda.is_available() else \"cpu\")\n",
        "model = Transformer(embedding_size, num_heads, hidden_dim, num_layers, dropout, device).to(device)\n",
        "\n",
        "# Initialize optimizer and loss function\n",
        "learning_rate = 5e-3\n",
        "optimizer = Adam(model.parameters(), lr=learning_rate)\n",
        "scheduler = StepLR(optimizer, step_size=10, gamma=0.5)\n",
        "criterion = nn.MSELoss()"
      ],
      "metadata": {
        "id": "oufxxgYuuN6L"
      },
      "execution_count": 85,
      "outputs": []
    },
    {
      "cell_type": "code",
      "source": [
        "def count_parameters(model):\n",
        "    return sum(p.numel() for p in model.parameters() if p.requires_grad)\n",
        "\n",
        "print(f'The model has {count_parameters(model):,} trainable parameters')"
      ],
      "metadata": {
        "colab": {
          "base_uri": "https://localhost:8080/"
        },
        "id": "w_KMi0_HMEiA",
        "outputId": "5b640034-e766-4574-b783-95d722e3960b"
      },
      "execution_count": 86,
      "outputs": [
        {
          "output_type": "stream",
          "name": "stdout",
          "text": [
            "The model has 353,409 trainable parameters\n"
          ]
        }
      ]
    },
    {
      "cell_type": "code",
      "source": [
        "# Training loop\n",
        "num_epochs = 10\n",
        "train_losses = []\n",
        "val_losses = []\n",
        "for epoch in range(num_epochs):\n",
        "    epoch_loss = 0\n",
        "    model.train()\n",
        "    for i, (src, tgt) in enumerate(dataloader):\n",
        "      # if i==0:\n",
        "        # Send your batch to the correct device\n",
        "        # torch.cuda.empty_cache()\n",
        "\n",
        "        optimizer.zero_grad()\n",
        "        src = src.to(device).float()\n",
        "        tgt = tgt.to(device).float()\n",
        "\n",
        "        # print('src shape and tgt shape:',src.shape,tgt.shape)\n",
        "        # Pass data through model\n",
        "        output = model(src, tgt)\n",
        "\n",
        "        # print(output, output.shape, tgt.shape)\n",
        "        # Compute loss\n",
        "        loss = criterion(output.squeeze(-1), tgt)\n",
        "        # print(7, torch.cuda.memory_allocated()*1e-9)\n",
        "        # Backward pass and optimization\n",
        "\n",
        "        loss.backward()\n",
        "        optimizer.step()\n",
        "        epoch_loss += loss.detach().item()\n",
        "        if i % 20 == 0:\n",
        "            print(f'| Step [{i+1}/{len(dataloader)}], Loss: {loss.detach().item()}')\n",
        "    train_losses.append(epoch_loss/len(dataloader))\n",
        "    print(f'Epoch [{epoch+1}/{num_epochs}], Loss: {epoch_loss/len(dataloader)}')\n",
        "    model.eval()\n",
        "    val_loss = 0\n",
        "    # someday\n",
        "# Save model\n",
        "# torch.save(model.state_dict(), \"transformer_model.pt\")"
      ],
      "metadata": {
        "colab": {
          "base_uri": "https://localhost:8080/"
        },
        "id": "maKoBIAF22-a",
        "outputId": "88e62a7b-da6d-418f-8ec2-03cb6f34260c"
      },
      "execution_count": 87,
      "outputs": [
        {
          "output_type": "stream",
          "name": "stdout",
          "text": [
            "| Step [1/100], Loss: 5763.55517578125\n",
            "| Step [21/100], Loss: 4656.8154296875\n",
            "| Step [41/100], Loss: 3767.9931640625\n",
            "| Step [61/100], Loss: 1352.0927734375\n",
            "| Step [81/100], Loss: 2192.08203125\n",
            "Epoch [1/10], Loss: 2301.224814453125\n",
            "| Step [1/100], Loss: 973.6448974609375\n",
            "| Step [21/100], Loss: 2499.813232421875\n",
            "| Step [41/100], Loss: 975.5869750976562\n",
            "| Step [61/100], Loss: 806.7142944335938\n",
            "| Step [81/100], Loss: 1723.2607421875\n",
            "Epoch [2/10], Loss: 1421.0910635375976\n",
            "| Step [1/100], Loss: 2972.60205078125\n",
            "| Step [21/100], Loss: 2082.11962890625\n",
            "| Step [41/100], Loss: 2501.923095703125\n",
            "| Step [61/100], Loss: 1332.520751953125\n",
            "| Step [81/100], Loss: 1011.4954833984375\n",
            "Epoch [3/10], Loss: 1351.8677951049804\n",
            "| Step [1/100], Loss: 2174.53759765625\n",
            "| Step [21/100], Loss: 918.088134765625\n",
            "| Step [41/100], Loss: 977.6138305664062\n",
            "| Step [61/100], Loss: 676.6741943359375\n",
            "| Step [81/100], Loss: 1956.4774169921875\n",
            "Epoch [4/10], Loss: 933.9577639770508\n",
            "| Step [1/100], Loss: 683.7156982421875\n",
            "| Step [21/100], Loss: 497.2891845703125\n",
            "| Step [41/100], Loss: 259.8876037597656\n",
            "| Step [61/100], Loss: 245.81829833984375\n",
            "| Step [81/100], Loss: 202.73812866210938\n",
            "Epoch [5/10], Loss: 636.809775390625\n",
            "| Step [1/100], Loss: 355.0820007324219\n",
            "| Step [21/100], Loss: 433.8782958984375\n",
            "| Step [41/100], Loss: 966.7902221679688\n",
            "| Step [61/100], Loss: 881.4254150390625\n",
            "| Step [81/100], Loss: 325.072021484375\n",
            "Epoch [6/10], Loss: 511.17938369750976\n",
            "| Step [1/100], Loss: 488.9212341308594\n",
            "| Step [21/100], Loss: 264.6827697753906\n",
            "| Step [41/100], Loss: 875.1026000976562\n",
            "| Step [61/100], Loss: 177.08798217773438\n",
            "| Step [81/100], Loss: 476.7702331542969\n",
            "Epoch [7/10], Loss: 472.6042041015625\n",
            "| Step [1/100], Loss: 271.2408142089844\n",
            "| Step [21/100], Loss: 406.7188720703125\n",
            "| Step [41/100], Loss: 363.33544921875\n",
            "| Step [61/100], Loss: 845.0125732421875\n",
            "| Step [81/100], Loss: 178.73170471191406\n",
            "Epoch [8/10], Loss: 391.38730728149415\n",
            "| Step [1/100], Loss: 254.58091735839844\n",
            "| Step [21/100], Loss: 280.8604736328125\n",
            "| Step [41/100], Loss: 689.7268676757812\n",
            "| Step [61/100], Loss: 143.76246643066406\n",
            "| Step [81/100], Loss: 164.41018676757812\n",
            "Epoch [9/10], Loss: 325.53187034606935\n",
            "| Step [1/100], Loss: 185.34193420410156\n",
            "| Step [21/100], Loss: 161.3876495361328\n",
            "| Step [41/100], Loss: 415.11761474609375\n",
            "| Step [61/100], Loss: 186.858642578125\n",
            "| Step [81/100], Loss: 191.36627197265625\n",
            "Epoch [10/10], Loss: 313.20487968444826\n"
          ]
        }
      ]
    },
    {
      "cell_type": "code",
      "source": [
        "plt.plot(train_losses)"
      ],
      "metadata": {
        "colab": {
          "base_uri": "https://localhost:8080/",
          "height": 448
        },
        "id": "FmhzsuG-L6sr",
        "outputId": "aea7b933-91aa-4fb3-8c5f-e146ba894be3"
      },
      "execution_count": 88,
      "outputs": [
        {
          "output_type": "execute_result",
          "data": {
            "text/plain": [
              "[<matplotlib.lines.Line2D at 0x7830825073a0>]"
            ]
          },
          "metadata": {},
          "execution_count": 88
        },
        {
          "output_type": "display_data",
          "data": {
            "text/plain": [
              "<Figure size 640x480 with 1 Axes>"
            ],
            "image/png": "[encoded data removed]"
          },
          "metadata": {}
        }
      ]
    },
    {
      "cell_type": "code",
      "source": [
        "model"
      ],
      "metadata": {
        "id": "nzdvkJ-Eng41",
        "colab": {
          "base_uri": "https://localhost:8080/"
        },
        "outputId": "f046eb7c-05d3-492d-8d6d-ec56b6825e4b"
      },
      "execution_count": 46,
      "outputs": [
        {
          "output_type": "execute_result",
          "data": {
            "text/plain": [
              "Transformer(\n",
              "  (src_linear): Linear(in_features=4, out_features=32, bias=True)\n",
              "  (tgt_linear): Linear(in_features=1, out_features=32, bias=True)\n",
              "  (src_pos_embedding): Embedding(1700, 32)\n",
              "  (tgt_pos_embedding): Embedding(8000, 32)\n",
              "  (encoder): TransformerEncoder(\n",
              "    (layers): ModuleList(\n",
              "      (0-1): 2 x TransformerEncoderLayer(\n",
              "        (self_attn): MultiheadAttention(\n",
              "          (out_proj): NonDynamicallyQuantizableLinear(in_features=32, out_features=32, bias=True)\n",
              "        )\n",
              "        (linear1): Linear(in_features=32, out_features=64, bias=True)\n",
              "        (dropout): Dropout(p=0.2, inplace=False)\n",
              "        (linear2): Linear(in_features=64, out_features=32, bias=True)\n",
              "        (norm1): LayerNorm((32,), eps=1e-05, elementwise_affine=True)\n",
              "        (norm2): LayerNorm((32,), eps=1e-05, elementwise_affine=True)\n",
              "        (dropout1): Dropout(p=0.2, inplace=False)\n",
              "        (dropout2): Dropout(p=0.2, inplace=False)\n",
              "      )\n",
              "    )\n",
              "  )\n",
              "  (decoder): TransformerDecoder(\n",
              "    (layers): ModuleList(\n",
              "      (0-1): 2 x TransformerDecoderLayer(\n",
              "        (self_attn): MultiheadAttention(\n",
              "          (out_proj): NonDynamicallyQuantizableLinear(in_features=32, out_features=32, bias=True)\n",
              "        )\n",
              "        (multihead_attn): MultiheadAttention(\n",
              "          (out_proj): NonDynamicallyQuantizableLinear(in_features=32, out_features=32, bias=True)\n",
              "        )\n",
              "        (linear1): Linear(in_features=32, out_features=64, bias=True)\n",
              "        (dropout): Dropout(p=0.2, inplace=False)\n",
              "        (linear2): Linear(in_features=64, out_features=32, bias=True)\n",
              "        (norm1): LayerNorm((32,), eps=1e-05, elementwise_affine=True)\n",
              "        (norm2): LayerNorm((32,), eps=1e-05, elementwise_affine=True)\n",
              "        (norm3): LayerNorm((32,), eps=1e-05, elementwise_affine=True)\n",
              "        (dropout1): Dropout(p=0.2, inplace=False)\n",
              "        (dropout2): Dropout(p=0.2, inplace=False)\n",
              "        (dropout3): Dropout(p=0.2, inplace=False)\n",
              "      )\n",
              "    )\n",
              "  )\n",
              "  (fc): Linear(in_features=32, out_features=1, bias=True)\n",
              "  (dropout): Dropout(p=0.2, inplace=False)\n",
              ")"
            ]
          },
          "metadata": {},
          "execution_count": 46
        }
      ]
    },
    {
      "cell_type": "code",
      "source": [],
      "metadata": {
        "id": "TclhZwnvL7Mo"
      },
      "execution_count": null,
      "outputs": []
    }
  ]
}